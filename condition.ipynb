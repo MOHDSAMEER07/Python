{
 "cells": [
  {
   "cell_type": "code",
   "execution_count": null,
   "metadata": {},
   "outputs": [
    {
     "name": "stdout",
     "output_type": "stream",
     "text": [
      "You are not eligible to vote\n"
     ]
    }
   ],
   "source": [
    "age = int (input('enter your age'))\n",
    "if age >18:\n",
    "    print('You are eligible to vote')\n",
    "else:\n",
    "    print('You are not eligible to vote')    "
   ]
  },
  {
   "cell_type": "code",
   "execution_count": 4,
   "metadata": {},
   "outputs": [
    {
     "name": "stdout",
     "output_type": "stream",
     "text": [
      "A\n",
      "B\n"
     ]
    }
   ],
   "source": [
    "marks = 75\n",
    "if marks >= 90:\n",
    "    print(\"A+\")\n",
    "if marks >= 70:\n",
    "    print(\"A\")\n",
    "if marks >= 50:\n",
    "    print(\"B\")\n",
    "if marks < 50:\n",
    "    print(\"Fail\")"
   ]
  },
  {
   "cell_type": "code",
   "execution_count": 2,
   "metadata": {},
   "outputs": [
    {
     "name": "stdout",
     "output_type": "stream",
     "text": [
      "A\n"
     ]
    }
   ],
   "source": [
    "marks = 75\n",
    "if marks >= 90:\n",
    "    print(\"A+\")\n",
    "elif marks >= 70:\n",
    "    print(\"A\")\n",
    "elif marks >= 50:\n",
    "    print(\"B\")\n",
    "elif marks < 50:\n",
    "    print(\"Fail\")\n",
    "else:\n",
    "    print(\"Invalid marks\")"
   ]
  },
  {
   "cell_type": "code",
   "execution_count": 1,
   "metadata": {},
   "outputs": [
    {
     "data": {
      "text/plain": [
       "True"
      ]
     },
     "execution_count": 1,
     "metadata": {},
     "output_type": "execute_result"
    }
   ],
   "source": [
    "apps = ['drive','facebook','insta','zomato','swiggy']\n",
    "'zomato' in apps"
   ]
  },
  {
   "cell_type": "code",
   "execution_count": 5,
   "metadata": {},
   "outputs": [
    {
     "name": "stdout",
     "output_type": "stream",
     "text": [
      "consonant\n"
     ]
    }
   ],
   "source": [
    "char = input(\"enter a character: \")\n",
    "if char == 'a' or char == 'e' or char == 'i' or char == 'o' or char == 'u':\n",
    "    print('Vowel')\n",
    "else:\n",
    "    print('consonant')    "
   ]
  },
  {
   "cell_type": "code",
   "execution_count": 3,
   "metadata": {},
   "outputs": [
    {
     "name": "stdout",
     "output_type": "stream",
     "text": [
      "Isosceles triangle\n"
     ]
    }
   ],
   "source": [
    "a = 10\n",
    "b = 20\n",
    "c = 10\n",
    "if a==b==c:\n",
    "    print(\"Equilateral triangle\")\n",
    "elif a==b or b==c or c==a:\n",
    "    print(\"Isosceles triangle\")\n",
    "else:\n",
    "    print(\"Scalene triangle\")"
   ]
  },
  {
   "cell_type": "code",
   "execution_count": null,
   "metadata": {},
   "outputs": [],
   "source": []
  },
  {
   "cell_type": "code",
   "execution_count": 1,
   "metadata": {},
   "outputs": [
    {
     "name": "stdout",
     "output_type": "stream",
     "text": [
      "invalid username\n"
     ]
    }
   ],
   "source": [
    "username = input(\"Enter your username:\")\n",
    "email =input(\"Enter your email: \")\n",
    "password = input(\"Enter your password: \") \n",
    "cpass =input(\"Enter your confirm password: \")\n",
    "if len(username)>5 and len(username)<15:\n",
    "    if '@' in email and len(email)>10:\n",
    "        if len(password)>8 and len(password)<15:\n",
    "            if password == cpass:\n",
    "                print('registration successful')\n",
    "            else:\n",
    "                print('password does not match')\n",
    "        else:\n",
    "            print('password must be between 8 and 15 character')\n",
    "    else:\n",
    "        print('invalid email') \n",
    "else:\n",
    "    print('invalid username')  \n",
    "\n",
    "\n",
    "                "
   ]
  },
  {
   "cell_type": "code",
   "execution_count": null,
   "metadata": {},
   "outputs": [],
   "source": []
  }
 ],
 "metadata": {
  "kernelspec": {
   "display_name": "base",
   "language": "python",
   "name": "python3"
  },
  "language_info": {
   "codemirror_mode": {
    "name": "ipython",
    "version": 3
   },
   "file_extension": ".py",
   "mimetype": "text/x-python",
   "name": "python",
   "nbconvert_exporter": "python",
   "pygments_lexer": "ipython3",
   "version": "3.12.8"
  }
 },
 "nbformat": 4,
 "nbformat_minor": 2
}
